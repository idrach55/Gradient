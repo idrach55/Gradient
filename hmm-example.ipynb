{
 "cells": [
  {
   "cell_type": "code",
   "execution_count": 35,
   "metadata": {},
   "outputs": [
    {
     "name": "stdout",
     "output_type": "stream",
     "text": [
      "Populating the interactive namespace from numpy and matplotlib\n"
     ]
    }
   ],
   "source": [
    "%pylab inline\n",
    "\n",
    "import pandas as pd\n",
    "from hmmlearn import hmm\n",
    "from sklearn.model_selection import train_test_split"
   ]
  },
  {
   "cell_type": "code",
   "execution_count": 36,
   "metadata": {},
   "outputs": [],
   "source": [
    "Pi = np.array([0.6,0.4])\n",
    "A  = np.array([[0.7, 0.3],\n",
    "               [0.4, 0.6]])\n",
    "B  = np.array([[0.1, 0.4, 0.5],\n",
    "               [0.6, 0.3, 0.1]])"
   ]
  },
  {
   "cell_type": "code",
   "execution_count": 39,
   "metadata": {},
   "outputs": [],
   "source": [
    "class HMM:\n",
    "    def __init__(self, pi, A, B):\n",
    "        self.pi = pi\n",
    "        self.A  = A\n",
    "        self.B  = B\n",
    "        self.states = []\n",
    "        self.emissions = []\n",
    "    def step(self):\n",
    "        if len(self.states) == 0:\n",
    "            self.states.append(np.random.choice(np.arange(self.pi.shape[0]), p=self.pi))\n",
    "        else:\n",
    "            self.states.append(np.random.choice(np.arange(self.A.shape[0]), p=self.A[self.states[-1]]))\n",
    "        self.emissions.append(np.random.choice(np.arange(self.B.shape[1]), p=self.B[self.states[-1]]))"
   ]
  },
  {
   "cell_type": "code",
   "execution_count": 40,
   "metadata": {},
   "outputs": [],
   "source": [
    "X = np.zeros(shape=(500,10))\n",
    "Y = np.zeros(shape=(500,10))\n",
    "for row in range(X.shape[0]):\n",
    "    generator = HMM(Pi,A,B)\n",
    "    for i in range(10): generator.step()\n",
    "    X[row] = generator.emissions\n",
    "    Y[row] = generator.states"
   ]
  },
  {
   "cell_type": "code",
   "execution_count": 110,
   "metadata": {},
   "outputs": [],
   "source": [
    "generator = HMM(Pi,A,B)\n",
    "for i in range(5000): generator.step()\n",
    "X = np.array(generator.emissions)"
   ]
  },
  {
   "cell_type": "code",
   "execution_count": 46,
   "metadata": {},
   "outputs": [],
   "source": [
    "X_train, X_test, Y_train, Y_test = train_test_split(X,Y,test_size=0.2)"
   ]
  },
  {
   "cell_type": "code",
   "execution_count": 111,
   "metadata": {},
   "outputs": [],
   "source": [
    "model = hmm.MultinomialHMM(n_components=2,n_iter=200)\n",
    "model.startprob_ = np.array([0.5, 0.5])\n",
    "model.transmat_ = np.array([[0.5, 0.5],\n",
    "                            [0.5, 0.5]])\n",
    "model.emissionprob_ = np.array([[0.3, 0.3, 0.4],\n",
    "                                [0.3, 0.3, 0.4]])"
   ]
  },
  {
   "cell_type": "code",
   "execution_count": 54,
   "metadata": {},
   "outputs": [],
   "source": [
    "lengths = [len(x) for x in X_train]"
   ]
  },
  {
   "cell_type": "code",
   "execution_count": 120,
   "metadata": {},
   "outputs": [
    {
     "data": {
      "text/plain": [
       "MultinomialHMM(algorithm='viterbi', init_params='ste', n_components=2,\n",
       "               n_iter=200, params='ste',\n",
       "               random_state=<mtrand.RandomState object at 0x1135f92d0>,\n",
       "               startprob_prior=1.0, tol=0.01, transmat_prior=1.0,\n",
       "               verbose=False)"
      ]
     },
     "execution_count": 120,
     "metadata": {},
     "output_type": "execute_result"
    }
   ],
   "source": [
    "model.fit(X.reshape(-1,1))"
   ]
  },
  {
   "cell_type": "code",
   "execution_count": 121,
   "metadata": {},
   "outputs": [
    {
     "data": {
      "text/plain": [
       "array([[0.61951798, 0.38048202],\n",
       "       [0.31857904, 0.68142096]])"
      ]
     },
     "execution_count": 121,
     "metadata": {},
     "output_type": "execute_result"
    }
   ],
   "source": [
    "model.transmat_"
   ]
  },
  {
   "cell_type": "code",
   "execution_count": 122,
   "metadata": {},
   "outputs": [
    {
     "data": {
      "text/plain": [
       "array([[0.62576414, 0.23576117, 0.13847468],\n",
       "       [0.07003668, 0.47754564, 0.45241768]])"
      ]
     },
     "execution_count": 122,
     "metadata": {},
     "output_type": "execute_result"
    }
   ],
   "source": [
    "model.emissionprob_"
   ]
  },
  {
   "cell_type": "code",
   "execution_count": null,
   "metadata": {},
   "outputs": [],
   "source": []
  },
  {
   "cell_type": "code",
   "execution_count": null,
   "metadata": {},
   "outputs": [],
   "source": []
  }
 ],
 "metadata": {
  "kernelspec": {
   "display_name": "Python 3",
   "language": "python",
   "name": "python3"
  },
  "language_info": {
   "codemirror_mode": {
    "name": "ipython",
    "version": 3
   },
   "file_extension": ".py",
   "mimetype": "text/x-python",
   "name": "python",
   "nbconvert_exporter": "python",
   "pygments_lexer": "ipython3",
   "version": "3.7.3"
  }
 },
 "nbformat": 4,
 "nbformat_minor": 2
}
