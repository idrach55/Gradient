{
 "cells": [
  {
   "cell_type": "code",
   "execution_count": 2,
   "metadata": {},
   "outputs": [
    {
     "name": "stdout",
     "output_type": "stream",
     "text": [
      "Populating the interactive namespace from numpy and matplotlib\n"
     ]
    }
   ],
   "source": [
    "%pylab inline\n",
    "\n",
    "import pandas as pd\n",
    "\n",
    "rcParams['axes.grid'] = True\n",
    "rcParams['figure.figsize'] = (12,8)"
   ]
  },
  {
   "cell_type": "code",
   "execution_count": 45,
   "metadata": {},
   "outputs": [],
   "source": [
    "years = ['2015', '2016', '2017', '2018']\n",
    "df = pd.DataFrame()\n",
    "for year in years:\n",
    "    df = df.append(pd.read_csv('prosper/loans%s.csv'%year))"
   ]
  },
  {
   "cell_type": "code",
   "execution_count": 46,
   "metadata": {},
   "outputs": [
    {
     "name": "stdout",
     "output_type": "stream",
     "text": [
      "number of loans: 843447\n",
      "COMPLETED loans 54.2%\n",
      "DEFAULTED loans 9.5%\n",
      "CHARGEOFF loans 7.5%\n",
      "CURRENT loans 28.5%\n",
      "CANCELLED loans 0.3%\n"
     ]
    }
   ],
   "source": [
    "print('number of loans: %d'%len(df))\n",
    "for status in df.loan_status_description.unique():\n",
    "    print('%s loans %0.1f%%'%(status, 100 * len(df.loc[df.loan_status_description == status])/len(df)))"
   ]
  },
  {
   "cell_type": "code",
   "execution_count": 51,
   "metadata": {},
   "outputs": [],
   "source": [
    "df['total_return'] = (df.interest_paid + df.late_fees_paid + df.principal_paid - df.amount_borrowed) \\\n",
    "                     / df.amount_borrowed / (df.term/12)"
   ]
  },
  {
   "cell_type": "code",
   "execution_count": 52,
   "metadata": {},
   "outputs": [
    {
     "data": {
      "text/plain": [
       "loan_number                                     384446\n",
       "amount_borrowed                                  10000\n",
       "borrower_rate                                   0.1076\n",
       "prosper_rating                                       B\n",
       "term                                                36\n",
       "age_in_months                                       54\n",
       "origination_date                   2015-07-17 00:00:00\n",
       "days_past_due                                        0\n",
       "principal_balance                                    0\n",
       "service_fees_paid                              -166.09\n",
       "principal_paid                                   10000\n",
       "interest_paid                                  1787.04\n",
       "prosper_fees_paid                                    0\n",
       "late_fees_paid                                   34.39\n",
       "debt_sale_proceeds_received                          0\n",
       "loan_status                                          1\n",
       "loan_status_description                        CURRENT\n",
       "loan_default_reason                                NaN\n",
       "loan_default_reason_description                    NaN\n",
       "next_payment_due_date              2018-07-17 00:00:00\n",
       "next_payment_due_amount                              0\n",
       "co_borrower_application                          False\n",
       "total_return                                 0.0607143\n",
       "Name: 118646, dtype: object"
      ]
     },
     "execution_count": 52,
     "metadata": {},
     "output_type": "execute_result"
    }
   ],
   "source": [
    "a = df.loc[(df.age_in_months > df.term) & (df.loan_status_description == 'CURRENT')].iloc[0]\n",
    "a"
   ]
  },
  {
   "cell_type": "code",
   "execution_count": null,
   "metadata": {},
   "outputs": [],
   "source": []
  }
 ],
 "metadata": {
  "kernelspec": {
   "display_name": "Python 3",
   "language": "python",
   "name": "python3"
  },
  "language_info": {
   "codemirror_mode": {
    "name": "ipython",
    "version": 3
   },
   "file_extension": ".py",
   "mimetype": "text/x-python",
   "name": "python",
   "nbconvert_exporter": "python",
   "pygments_lexer": "ipython3",
   "version": "3.7.3"
  }
 },
 "nbformat": 4,
 "nbformat_minor": 2
}
